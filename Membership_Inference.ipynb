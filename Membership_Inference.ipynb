{
  "nbformat": 4,
  "nbformat_minor": 0,
  "metadata": {
    "colab": {
      "name": "Membership_Inference.ipynb",
      "provenance": [],
      "collapsed_sections": [],
      "authorship_tag": "ABX9TyPHamK61716JBugXI6kv7Zz",
      "include_colab_link": true
    },
    "kernelspec": {
      "name": "python3",
      "display_name": "Python 3"
    },
    "widgets": {
      "application/vnd.jupyter.widget-state+json": {
        "b797973bf23a4d25a6fdad0775f965bd": {
          "model_module": "@jupyter-widgets/controls",
          "model_name": "HBoxModel",
          "state": {
            "_view_name": "HBoxView",
            "_dom_classes": [],
            "_model_name": "HBoxModel",
            "_view_module": "@jupyter-widgets/controls",
            "_model_module_version": "1.5.0",
            "_view_count": null,
            "_view_module_version": "1.5.0",
            "box_style": "",
            "layout": "IPY_MODEL_f72a29643f714dc1b4a20cebc7d251fe",
            "_model_module": "@jupyter-widgets/controls",
            "children": [
              "IPY_MODEL_81b82da80f674035ba289b6b690a1cd2",
              "IPY_MODEL_896af901bec84b07bc021cbcf02a9a1e"
            ]
          }
        },
        "f72a29643f714dc1b4a20cebc7d251fe": {
          "model_module": "@jupyter-widgets/base",
          "model_name": "LayoutModel",
          "state": {
            "_view_name": "LayoutView",
            "grid_template_rows": null,
            "right": null,
            "justify_content": null,
            "_view_module": "@jupyter-widgets/base",
            "overflow": null,
            "_model_module_version": "1.2.0",
            "_view_count": null,
            "flex_flow": null,
            "width": null,
            "min_width": null,
            "border": null,
            "align_items": null,
            "bottom": null,
            "_model_module": "@jupyter-widgets/base",
            "top": null,
            "grid_column": null,
            "overflow_y": null,
            "overflow_x": null,
            "grid_auto_flow": null,
            "grid_area": null,
            "grid_template_columns": null,
            "flex": null,
            "_model_name": "LayoutModel",
            "justify_items": null,
            "grid_row": null,
            "max_height": null,
            "align_content": null,
            "visibility": null,
            "align_self": null,
            "height": null,
            "min_height": null,
            "padding": null,
            "grid_auto_rows": null,
            "grid_gap": null,
            "max_width": null,
            "order": null,
            "_view_module_version": "1.2.0",
            "grid_template_areas": null,
            "object_position": null,
            "object_fit": null,
            "grid_auto_columns": null,
            "margin": null,
            "display": null,
            "left": null
          }
        },
        "81b82da80f674035ba289b6b690a1cd2": {
          "model_module": "@jupyter-widgets/controls",
          "model_name": "FloatProgressModel",
          "state": {
            "_view_name": "ProgressView",
            "style": "IPY_MODEL_d01918c0e91c4850ba5b0ca3e93d2b94",
            "_dom_classes": [],
            "description": "",
            "_model_name": "FloatProgressModel",
            "bar_style": "info",
            "max": 1,
            "_view_module": "@jupyter-widgets/controls",
            "_model_module_version": "1.5.0",
            "value": 1,
            "_view_count": null,
            "_view_module_version": "1.5.0",
            "orientation": "horizontal",
            "min": 0,
            "description_tooltip": null,
            "_model_module": "@jupyter-widgets/controls",
            "layout": "IPY_MODEL_9c4a3621e21642c8ab0068b947595b9e"
          }
        },
        "896af901bec84b07bc021cbcf02a9a1e": {
          "model_module": "@jupyter-widgets/controls",
          "model_name": "HTMLModel",
          "state": {
            "_view_name": "HTMLView",
            "style": "IPY_MODEL_ab0879fb35554b31a545ff8e2dc4d181",
            "_dom_classes": [],
            "description": "",
            "_model_name": "HTMLModel",
            "placeholder": "​",
            "_view_module": "@jupyter-widgets/controls",
            "_model_module_version": "1.5.0",
            "value": " 9920512/? [00:20&lt;00:00, 1127554.10it/s]",
            "_view_count": null,
            "_view_module_version": "1.5.0",
            "description_tooltip": null,
            "_model_module": "@jupyter-widgets/controls",
            "layout": "IPY_MODEL_c8395958a7454930aa21c7a31efeca32"
          }
        },
        "d01918c0e91c4850ba5b0ca3e93d2b94": {
          "model_module": "@jupyter-widgets/controls",
          "model_name": "ProgressStyleModel",
          "state": {
            "_view_name": "StyleView",
            "_model_name": "ProgressStyleModel",
            "description_width": "initial",
            "_view_module": "@jupyter-widgets/base",
            "_model_module_version": "1.5.0",
            "_view_count": null,
            "_view_module_version": "1.2.0",
            "bar_color": null,
            "_model_module": "@jupyter-widgets/controls"
          }
        },
        "9c4a3621e21642c8ab0068b947595b9e": {
          "model_module": "@jupyter-widgets/base",
          "model_name": "LayoutModel",
          "state": {
            "_view_name": "LayoutView",
            "grid_template_rows": null,
            "right": null,
            "justify_content": null,
            "_view_module": "@jupyter-widgets/base",
            "overflow": null,
            "_model_module_version": "1.2.0",
            "_view_count": null,
            "flex_flow": null,
            "width": null,
            "min_width": null,
            "border": null,
            "align_items": null,
            "bottom": null,
            "_model_module": "@jupyter-widgets/base",
            "top": null,
            "grid_column": null,
            "overflow_y": null,
            "overflow_x": null,
            "grid_auto_flow": null,
            "grid_area": null,
            "grid_template_columns": null,
            "flex": null,
            "_model_name": "LayoutModel",
            "justify_items": null,
            "grid_row": null,
            "max_height": null,
            "align_content": null,
            "visibility": null,
            "align_self": null,
            "height": null,
            "min_height": null,
            "padding": null,
            "grid_auto_rows": null,
            "grid_gap": null,
            "max_width": null,
            "order": null,
            "_view_module_version": "1.2.0",
            "grid_template_areas": null,
            "object_position": null,
            "object_fit": null,
            "grid_auto_columns": null,
            "margin": null,
            "display": null,
            "left": null
          }
        },
        "ab0879fb35554b31a545ff8e2dc4d181": {
          "model_module": "@jupyter-widgets/controls",
          "model_name": "DescriptionStyleModel",
          "state": {
            "_view_name": "StyleView",
            "_model_name": "DescriptionStyleModel",
            "description_width": "",
            "_view_module": "@jupyter-widgets/base",
            "_model_module_version": "1.5.0",
            "_view_count": null,
            "_view_module_version": "1.2.0",
            "_model_module": "@jupyter-widgets/controls"
          }
        },
        "c8395958a7454930aa21c7a31efeca32": {
          "model_module": "@jupyter-widgets/base",
          "model_name": "LayoutModel",
          "state": {
            "_view_name": "LayoutView",
            "grid_template_rows": null,
            "right": null,
            "justify_content": null,
            "_view_module": "@jupyter-widgets/base",
            "overflow": null,
            "_model_module_version": "1.2.0",
            "_view_count": null,
            "flex_flow": null,
            "width": null,
            "min_width": null,
            "border": null,
            "align_items": null,
            "bottom": null,
            "_model_module": "@jupyter-widgets/base",
            "top": null,
            "grid_column": null,
            "overflow_y": null,
            "overflow_x": null,
            "grid_auto_flow": null,
            "grid_area": null,
            "grid_template_columns": null,
            "flex": null,
            "_model_name": "LayoutModel",
            "justify_items": null,
            "grid_row": null,
            "max_height": null,
            "align_content": null,
            "visibility": null,
            "align_self": null,
            "height": null,
            "min_height": null,
            "padding": null,
            "grid_auto_rows": null,
            "grid_gap": null,
            "max_width": null,
            "order": null,
            "_view_module_version": "1.2.0",
            "grid_template_areas": null,
            "object_position": null,
            "object_fit": null,
            "grid_auto_columns": null,
            "margin": null,
            "display": null,
            "left": null
          }
        },
        "fde930a848864a11936fd084300c613c": {
          "model_module": "@jupyter-widgets/controls",
          "model_name": "HBoxModel",
          "state": {
            "_view_name": "HBoxView",
            "_dom_classes": [],
            "_model_name": "HBoxModel",
            "_view_module": "@jupyter-widgets/controls",
            "_model_module_version": "1.5.0",
            "_view_count": null,
            "_view_module_version": "1.5.0",
            "box_style": "",
            "layout": "IPY_MODEL_0b6a2d16efd34fc48fbf7002841728e8",
            "_model_module": "@jupyter-widgets/controls",
            "children": [
              "IPY_MODEL_9ef1ece3d29f4814ad58b522160490e1",
              "IPY_MODEL_83183c74779d461a9958e4ff71c2bd65"
            ]
          }
        },
        "0b6a2d16efd34fc48fbf7002841728e8": {
          "model_module": "@jupyter-widgets/base",
          "model_name": "LayoutModel",
          "state": {
            "_view_name": "LayoutView",
            "grid_template_rows": null,
            "right": null,
            "justify_content": null,
            "_view_module": "@jupyter-widgets/base",
            "overflow": null,
            "_model_module_version": "1.2.0",
            "_view_count": null,
            "flex_flow": null,
            "width": null,
            "min_width": null,
            "border": null,
            "align_items": null,
            "bottom": null,
            "_model_module": "@jupyter-widgets/base",
            "top": null,
            "grid_column": null,
            "overflow_y": null,
            "overflow_x": null,
            "grid_auto_flow": null,
            "grid_area": null,
            "grid_template_columns": null,
            "flex": null,
            "_model_name": "LayoutModel",
            "justify_items": null,
            "grid_row": null,
            "max_height": null,
            "align_content": null,
            "visibility": null,
            "align_self": null,
            "height": null,
            "min_height": null,
            "padding": null,
            "grid_auto_rows": null,
            "grid_gap": null,
            "max_width": null,
            "order": null,
            "_view_module_version": "1.2.0",
            "grid_template_areas": null,
            "object_position": null,
            "object_fit": null,
            "grid_auto_columns": null,
            "margin": null,
            "display": null,
            "left": null
          }
        },
        "9ef1ece3d29f4814ad58b522160490e1": {
          "model_module": "@jupyter-widgets/controls",
          "model_name": "FloatProgressModel",
          "state": {
            "_view_name": "ProgressView",
            "style": "IPY_MODEL_7bd1e56f9e3b43d3bfb8ce1b7388db01",
            "_dom_classes": [],
            "description": "  0%",
            "_model_name": "FloatProgressModel",
            "bar_style": "info",
            "max": 1,
            "_view_module": "@jupyter-widgets/controls",
            "_model_module_version": "1.5.0",
            "value": 0,
            "_view_count": null,
            "_view_module_version": "1.5.0",
            "orientation": "horizontal",
            "min": 0,
            "description_tooltip": null,
            "_model_module": "@jupyter-widgets/controls",
            "layout": "IPY_MODEL_9b08cc0105cd40fc997f5a6b91e166d7"
          }
        },
        "83183c74779d461a9958e4ff71c2bd65": {
          "model_module": "@jupyter-widgets/controls",
          "model_name": "HTMLModel",
          "state": {
            "_view_name": "HTMLView",
            "style": "IPY_MODEL_875370ee61854bcbb4f56dd7accac0d9",
            "_dom_classes": [],
            "description": "",
            "_model_name": "HTMLModel",
            "placeholder": "​",
            "_view_module": "@jupyter-widgets/controls",
            "_model_module_version": "1.5.0",
            "value": " 0/28881 [00:00&lt;?, ?it/s]",
            "_view_count": null,
            "_view_module_version": "1.5.0",
            "description_tooltip": null,
            "_model_module": "@jupyter-widgets/controls",
            "layout": "IPY_MODEL_ba9717fe64d74dea8ba5e20c4209d126"
          }
        },
        "7bd1e56f9e3b43d3bfb8ce1b7388db01": {
          "model_module": "@jupyter-widgets/controls",
          "model_name": "ProgressStyleModel",
          "state": {
            "_view_name": "StyleView",
            "_model_name": "ProgressStyleModel",
            "description_width": "initial",
            "_view_module": "@jupyter-widgets/base",
            "_model_module_version": "1.5.0",
            "_view_count": null,
            "_view_module_version": "1.2.0",
            "bar_color": null,
            "_model_module": "@jupyter-widgets/controls"
          }
        },
        "9b08cc0105cd40fc997f5a6b91e166d7": {
          "model_module": "@jupyter-widgets/base",
          "model_name": "LayoutModel",
          "state": {
            "_view_name": "LayoutView",
            "grid_template_rows": null,
            "right": null,
            "justify_content": null,
            "_view_module": "@jupyter-widgets/base",
            "overflow": null,
            "_model_module_version": "1.2.0",
            "_view_count": null,
            "flex_flow": null,
            "width": null,
            "min_width": null,
            "border": null,
            "align_items": null,
            "bottom": null,
            "_model_module": "@jupyter-widgets/base",
            "top": null,
            "grid_column": null,
            "overflow_y": null,
            "overflow_x": null,
            "grid_auto_flow": null,
            "grid_area": null,
            "grid_template_columns": null,
            "flex": null,
            "_model_name": "LayoutModel",
            "justify_items": null,
            "grid_row": null,
            "max_height": null,
            "align_content": null,
            "visibility": null,
            "align_self": null,
            "height": null,
            "min_height": null,
            "padding": null,
            "grid_auto_rows": null,
            "grid_gap": null,
            "max_width": null,
            "order": null,
            "_view_module_version": "1.2.0",
            "grid_template_areas": null,
            "object_position": null,
            "object_fit": null,
            "grid_auto_columns": null,
            "margin": null,
            "display": null,
            "left": null
          }
        },
        "875370ee61854bcbb4f56dd7accac0d9": {
          "model_module": "@jupyter-widgets/controls",
          "model_name": "DescriptionStyleModel",
          "state": {
            "_view_name": "StyleView",
            "_model_name": "DescriptionStyleModel",
            "description_width": "",
            "_view_module": "@jupyter-widgets/base",
            "_model_module_version": "1.5.0",
            "_view_count": null,
            "_view_module_version": "1.2.0",
            "_model_module": "@jupyter-widgets/controls"
          }
        },
        "ba9717fe64d74dea8ba5e20c4209d126": {
          "model_module": "@jupyter-widgets/base",
          "model_name": "LayoutModel",
          "state": {
            "_view_name": "LayoutView",
            "grid_template_rows": null,
            "right": null,
            "justify_content": null,
            "_view_module": "@jupyter-widgets/base",
            "overflow": null,
            "_model_module_version": "1.2.0",
            "_view_count": null,
            "flex_flow": null,
            "width": null,
            "min_width": null,
            "border": null,
            "align_items": null,
            "bottom": null,
            "_model_module": "@jupyter-widgets/base",
            "top": null,
            "grid_column": null,
            "overflow_y": null,
            "overflow_x": null,
            "grid_auto_flow": null,
            "grid_area": null,
            "grid_template_columns": null,
            "flex": null,
            "_model_name": "LayoutModel",
            "justify_items": null,
            "grid_row": null,
            "max_height": null,
            "align_content": null,
            "visibility": null,
            "align_self": null,
            "height": null,
            "min_height": null,
            "padding": null,
            "grid_auto_rows": null,
            "grid_gap": null,
            "max_width": null,
            "order": null,
            "_view_module_version": "1.2.0",
            "grid_template_areas": null,
            "object_position": null,
            "object_fit": null,
            "grid_auto_columns": null,
            "margin": null,
            "display": null,
            "left": null
          }
        },
        "9934ea172a074570937d209f4f389b9a": {
          "model_module": "@jupyter-widgets/controls",
          "model_name": "HBoxModel",
          "state": {
            "_view_name": "HBoxView",
            "_dom_classes": [],
            "_model_name": "HBoxModel",
            "_view_module": "@jupyter-widgets/controls",
            "_model_module_version": "1.5.0",
            "_view_count": null,
            "_view_module_version": "1.5.0",
            "box_style": "",
            "layout": "IPY_MODEL_86dcf65441ef4599b0052082b0b9ef84",
            "_model_module": "@jupyter-widgets/controls",
            "children": [
              "IPY_MODEL_47fd4e64860b4d819943e16b937729a0",
              "IPY_MODEL_663f05287e6d4c16b2af65c7f8c0d78f"
            ]
          }
        },
        "86dcf65441ef4599b0052082b0b9ef84": {
          "model_module": "@jupyter-widgets/base",
          "model_name": "LayoutModel",
          "state": {
            "_view_name": "LayoutView",
            "grid_template_rows": null,
            "right": null,
            "justify_content": null,
            "_view_module": "@jupyter-widgets/base",
            "overflow": null,
            "_model_module_version": "1.2.0",
            "_view_count": null,
            "flex_flow": null,
            "width": null,
            "min_width": null,
            "border": null,
            "align_items": null,
            "bottom": null,
            "_model_module": "@jupyter-widgets/base",
            "top": null,
            "grid_column": null,
            "overflow_y": null,
            "overflow_x": null,
            "grid_auto_flow": null,
            "grid_area": null,
            "grid_template_columns": null,
            "flex": null,
            "_model_name": "LayoutModel",
            "justify_items": null,
            "grid_row": null,
            "max_height": null,
            "align_content": null,
            "visibility": null,
            "align_self": null,
            "height": null,
            "min_height": null,
            "padding": null,
            "grid_auto_rows": null,
            "grid_gap": null,
            "max_width": null,
            "order": null,
            "_view_module_version": "1.2.0",
            "grid_template_areas": null,
            "object_position": null,
            "object_fit": null,
            "grid_auto_columns": null,
            "margin": null,
            "display": null,
            "left": null
          }
        },
        "47fd4e64860b4d819943e16b937729a0": {
          "model_module": "@jupyter-widgets/controls",
          "model_name": "FloatProgressModel",
          "state": {
            "_view_name": "ProgressView",
            "style": "IPY_MODEL_b326b9ef97b443b98c348504bb670f7f",
            "_dom_classes": [],
            "description": "",
            "_model_name": "FloatProgressModel",
            "bar_style": "info",
            "max": 1,
            "_view_module": "@jupyter-widgets/controls",
            "_model_module_version": "1.5.0",
            "value": 1,
            "_view_count": null,
            "_view_module_version": "1.5.0",
            "orientation": "horizontal",
            "min": 0,
            "description_tooltip": null,
            "_model_module": "@jupyter-widgets/controls",
            "layout": "IPY_MODEL_86b59a605c00435d801e62d426b042c2"
          }
        },
        "663f05287e6d4c16b2af65c7f8c0d78f": {
          "model_module": "@jupyter-widgets/controls",
          "model_name": "HTMLModel",
          "state": {
            "_view_name": "HTMLView",
            "style": "IPY_MODEL_6e8558bf51c44f03ba689600bd2aa47c",
            "_dom_classes": [],
            "description": "",
            "_model_name": "HTMLModel",
            "placeholder": "​",
            "_view_module": "@jupyter-widgets/controls",
            "_model_module_version": "1.5.0",
            "value": " 1654784/? [00:18&lt;00:00, 520203.09it/s]",
            "_view_count": null,
            "_view_module_version": "1.5.0",
            "description_tooltip": null,
            "_model_module": "@jupyter-widgets/controls",
            "layout": "IPY_MODEL_83b1deb3606b44269101241084138d1a"
          }
        },
        "b326b9ef97b443b98c348504bb670f7f": {
          "model_module": "@jupyter-widgets/controls",
          "model_name": "ProgressStyleModel",
          "state": {
            "_view_name": "StyleView",
            "_model_name": "ProgressStyleModel",
            "description_width": "initial",
            "_view_module": "@jupyter-widgets/base",
            "_model_module_version": "1.5.0",
            "_view_count": null,
            "_view_module_version": "1.2.0",
            "bar_color": null,
            "_model_module": "@jupyter-widgets/controls"
          }
        },
        "86b59a605c00435d801e62d426b042c2": {
          "model_module": "@jupyter-widgets/base",
          "model_name": "LayoutModel",
          "state": {
            "_view_name": "LayoutView",
            "grid_template_rows": null,
            "right": null,
            "justify_content": null,
            "_view_module": "@jupyter-widgets/base",
            "overflow": null,
            "_model_module_version": "1.2.0",
            "_view_count": null,
            "flex_flow": null,
            "width": null,
            "min_width": null,
            "border": null,
            "align_items": null,
            "bottom": null,
            "_model_module": "@jupyter-widgets/base",
            "top": null,
            "grid_column": null,
            "overflow_y": null,
            "overflow_x": null,
            "grid_auto_flow": null,
            "grid_area": null,
            "grid_template_columns": null,
            "flex": null,
            "_model_name": "LayoutModel",
            "justify_items": null,
            "grid_row": null,
            "max_height": null,
            "align_content": null,
            "visibility": null,
            "align_self": null,
            "height": null,
            "min_height": null,
            "padding": null,
            "grid_auto_rows": null,
            "grid_gap": null,
            "max_width": null,
            "order": null,
            "_view_module_version": "1.2.0",
            "grid_template_areas": null,
            "object_position": null,
            "object_fit": null,
            "grid_auto_columns": null,
            "margin": null,
            "display": null,
            "left": null
          }
        },
        "6e8558bf51c44f03ba689600bd2aa47c": {
          "model_module": "@jupyter-widgets/controls",
          "model_name": "DescriptionStyleModel",
          "state": {
            "_view_name": "StyleView",
            "_model_name": "DescriptionStyleModel",
            "description_width": "",
            "_view_module": "@jupyter-widgets/base",
            "_model_module_version": "1.5.0",
            "_view_count": null,
            "_view_module_version": "1.2.0",
            "_model_module": "@jupyter-widgets/controls"
          }
        },
        "83b1deb3606b44269101241084138d1a": {
          "model_module": "@jupyter-widgets/base",
          "model_name": "LayoutModel",
          "state": {
            "_view_name": "LayoutView",
            "grid_template_rows": null,
            "right": null,
            "justify_content": null,
            "_view_module": "@jupyter-widgets/base",
            "overflow": null,
            "_model_module_version": "1.2.0",
            "_view_count": null,
            "flex_flow": null,
            "width": null,
            "min_width": null,
            "border": null,
            "align_items": null,
            "bottom": null,
            "_model_module": "@jupyter-widgets/base",
            "top": null,
            "grid_column": null,
            "overflow_y": null,
            "overflow_x": null,
            "grid_auto_flow": null,
            "grid_area": null,
            "grid_template_columns": null,
            "flex": null,
            "_model_name": "LayoutModel",
            "justify_items": null,
            "grid_row": null,
            "max_height": null,
            "align_content": null,
            "visibility": null,
            "align_self": null,
            "height": null,
            "min_height": null,
            "padding": null,
            "grid_auto_rows": null,
            "grid_gap": null,
            "max_width": null,
            "order": null,
            "_view_module_version": "1.2.0",
            "grid_template_areas": null,
            "object_position": null,
            "object_fit": null,
            "grid_auto_columns": null,
            "margin": null,
            "display": null,
            "left": null
          }
        },
        "a8c3b33fdf3344059b2f0e19dfaf8b37": {
          "model_module": "@jupyter-widgets/controls",
          "model_name": "HBoxModel",
          "state": {
            "_view_name": "HBoxView",
            "_dom_classes": [],
            "_model_name": "HBoxModel",
            "_view_module": "@jupyter-widgets/controls",
            "_model_module_version": "1.5.0",
            "_view_count": null,
            "_view_module_version": "1.5.0",
            "box_style": "",
            "layout": "IPY_MODEL_872e05e531af4be2bac195ac52033de8",
            "_model_module": "@jupyter-widgets/controls",
            "children": [
              "IPY_MODEL_1e27c74bde114c3d828f434cd28b9783",
              "IPY_MODEL_62842fb4742b4f0d885ec50b8144db68"
            ]
          }
        },
        "872e05e531af4be2bac195ac52033de8": {
          "model_module": "@jupyter-widgets/base",
          "model_name": "LayoutModel",
          "state": {
            "_view_name": "LayoutView",
            "grid_template_rows": null,
            "right": null,
            "justify_content": null,
            "_view_module": "@jupyter-widgets/base",
            "overflow": null,
            "_model_module_version": "1.2.0",
            "_view_count": null,
            "flex_flow": null,
            "width": null,
            "min_width": null,
            "border": null,
            "align_items": null,
            "bottom": null,
            "_model_module": "@jupyter-widgets/base",
            "top": null,
            "grid_column": null,
            "overflow_y": null,
            "overflow_x": null,
            "grid_auto_flow": null,
            "grid_area": null,
            "grid_template_columns": null,
            "flex": null,
            "_model_name": "LayoutModel",
            "justify_items": null,
            "grid_row": null,
            "max_height": null,
            "align_content": null,
            "visibility": null,
            "align_self": null,
            "height": null,
            "min_height": null,
            "padding": null,
            "grid_auto_rows": null,
            "grid_gap": null,
            "max_width": null,
            "order": null,
            "_view_module_version": "1.2.0",
            "grid_template_areas": null,
            "object_position": null,
            "object_fit": null,
            "grid_auto_columns": null,
            "margin": null,
            "display": null,
            "left": null
          }
        },
        "1e27c74bde114c3d828f434cd28b9783": {
          "model_module": "@jupyter-widgets/controls",
          "model_name": "FloatProgressModel",
          "state": {
            "_view_name": "ProgressView",
            "style": "IPY_MODEL_9012d1c4ffeb4296b2774ca22cd3eab6",
            "_dom_classes": [],
            "description": "  0%",
            "_model_name": "FloatProgressModel",
            "bar_style": "info",
            "max": 1,
            "_view_module": "@jupyter-widgets/controls",
            "_model_module_version": "1.5.0",
            "value": 0,
            "_view_count": null,
            "_view_module_version": "1.5.0",
            "orientation": "horizontal",
            "min": 0,
            "description_tooltip": null,
            "_model_module": "@jupyter-widgets/controls",
            "layout": "IPY_MODEL_c36240940c3349c4b518314b4786d9fd"
          }
        },
        "62842fb4742b4f0d885ec50b8144db68": {
          "model_module": "@jupyter-widgets/controls",
          "model_name": "HTMLModel",
          "state": {
            "_view_name": "HTMLView",
            "style": "IPY_MODEL_188f24eadd484e248dca6a4db0900370",
            "_dom_classes": [],
            "description": "",
            "_model_name": "HTMLModel",
            "placeholder": "​",
            "_view_module": "@jupyter-widgets/controls",
            "_model_module_version": "1.5.0",
            "value": " 0/4542 [00:00&lt;?, ?it/s]",
            "_view_count": null,
            "_view_module_version": "1.5.0",
            "description_tooltip": null,
            "_model_module": "@jupyter-widgets/controls",
            "layout": "IPY_MODEL_3eec6c190d4e47769961a776216e16a2"
          }
        },
        "9012d1c4ffeb4296b2774ca22cd3eab6": {
          "model_module": "@jupyter-widgets/controls",
          "model_name": "ProgressStyleModel",
          "state": {
            "_view_name": "StyleView",
            "_model_name": "ProgressStyleModel",
            "description_width": "initial",
            "_view_module": "@jupyter-widgets/base",
            "_model_module_version": "1.5.0",
            "_view_count": null,
            "_view_module_version": "1.2.0",
            "bar_color": null,
            "_model_module": "@jupyter-widgets/controls"
          }
        },
        "c36240940c3349c4b518314b4786d9fd": {
          "model_module": "@jupyter-widgets/base",
          "model_name": "LayoutModel",
          "state": {
            "_view_name": "LayoutView",
            "grid_template_rows": null,
            "right": null,
            "justify_content": null,
            "_view_module": "@jupyter-widgets/base",
            "overflow": null,
            "_model_module_version": "1.2.0",
            "_view_count": null,
            "flex_flow": null,
            "width": null,
            "min_width": null,
            "border": null,
            "align_items": null,
            "bottom": null,
            "_model_module": "@jupyter-widgets/base",
            "top": null,
            "grid_column": null,
            "overflow_y": null,
            "overflow_x": null,
            "grid_auto_flow": null,
            "grid_area": null,
            "grid_template_columns": null,
            "flex": null,
            "_model_name": "LayoutModel",
            "justify_items": null,
            "grid_row": null,
            "max_height": null,
            "align_content": null,
            "visibility": null,
            "align_self": null,
            "height": null,
            "min_height": null,
            "padding": null,
            "grid_auto_rows": null,
            "grid_gap": null,
            "max_width": null,
            "order": null,
            "_view_module_version": "1.2.0",
            "grid_template_areas": null,
            "object_position": null,
            "object_fit": null,
            "grid_auto_columns": null,
            "margin": null,
            "display": null,
            "left": null
          }
        },
        "188f24eadd484e248dca6a4db0900370": {
          "model_module": "@jupyter-widgets/controls",
          "model_name": "DescriptionStyleModel",
          "state": {
            "_view_name": "StyleView",
            "_model_name": "DescriptionStyleModel",
            "description_width": "",
            "_view_module": "@jupyter-widgets/base",
            "_model_module_version": "1.5.0",
            "_view_count": null,
            "_view_module_version": "1.2.0",
            "_model_module": "@jupyter-widgets/controls"
          }
        },
        "3eec6c190d4e47769961a776216e16a2": {
          "model_module": "@jupyter-widgets/base",
          "model_name": "LayoutModel",
          "state": {
            "_view_name": "LayoutView",
            "grid_template_rows": null,
            "right": null,
            "justify_content": null,
            "_view_module": "@jupyter-widgets/base",
            "overflow": null,
            "_model_module_version": "1.2.0",
            "_view_count": null,
            "flex_flow": null,
            "width": null,
            "min_width": null,
            "border": null,
            "align_items": null,
            "bottom": null,
            "_model_module": "@jupyter-widgets/base",
            "top": null,
            "grid_column": null,
            "overflow_y": null,
            "overflow_x": null,
            "grid_auto_flow": null,
            "grid_area": null,
            "grid_template_columns": null,
            "flex": null,
            "_model_name": "LayoutModel",
            "justify_items": null,
            "grid_row": null,
            "max_height": null,
            "align_content": null,
            "visibility": null,
            "align_self": null,
            "height": null,
            "min_height": null,
            "padding": null,
            "grid_auto_rows": null,
            "grid_gap": null,
            "max_width": null,
            "order": null,
            "_view_module_version": "1.2.0",
            "grid_template_areas": null,
            "object_position": null,
            "object_fit": null,
            "grid_auto_columns": null,
            "margin": null,
            "display": null,
            "left": null
          }
        },
        "5f68880c36c14234aacc518fb54309d4": {
          "model_module": "@jupyter-widgets/controls",
          "model_name": "HBoxModel",
          "state": {
            "_view_name": "HBoxView",
            "_dom_classes": [],
            "_model_name": "HBoxModel",
            "_view_module": "@jupyter-widgets/controls",
            "_model_module_version": "1.5.0",
            "_view_count": null,
            "_view_module_version": "1.5.0",
            "box_style": "",
            "layout": "IPY_MODEL_8ce9b14a6ef84f21a575cf4629bcdb63",
            "_model_module": "@jupyter-widgets/controls",
            "children": [
              "IPY_MODEL_c388156d182e4fc5ba3c35a37933d191",
              "IPY_MODEL_1d0323b88e7642eda573c569300988ad"
            ]
          }
        },
        "8ce9b14a6ef84f21a575cf4629bcdb63": {
          "model_module": "@jupyter-widgets/base",
          "model_name": "LayoutModel",
          "state": {
            "_view_name": "LayoutView",
            "grid_template_rows": null,
            "right": null,
            "justify_content": null,
            "_view_module": "@jupyter-widgets/base",
            "overflow": null,
            "_model_module_version": "1.2.0",
            "_view_count": null,
            "flex_flow": null,
            "width": null,
            "min_width": null,
            "border": null,
            "align_items": null,
            "bottom": null,
            "_model_module": "@jupyter-widgets/base",
            "top": null,
            "grid_column": null,
            "overflow_y": null,
            "overflow_x": null,
            "grid_auto_flow": null,
            "grid_area": null,
            "grid_template_columns": null,
            "flex": null,
            "_model_name": "LayoutModel",
            "justify_items": null,
            "grid_row": null,
            "max_height": null,
            "align_content": null,
            "visibility": null,
            "align_self": null,
            "height": null,
            "min_height": null,
            "padding": null,
            "grid_auto_rows": null,
            "grid_gap": null,
            "max_width": null,
            "order": null,
            "_view_module_version": "1.2.0",
            "grid_template_areas": null,
            "object_position": null,
            "object_fit": null,
            "grid_auto_columns": null,
            "margin": null,
            "display": null,
            "left": null
          }
        },
        "c388156d182e4fc5ba3c35a37933d191": {
          "model_module": "@jupyter-widgets/controls",
          "model_name": "FloatProgressModel",
          "state": {
            "_view_name": "ProgressView",
            "style": "IPY_MODEL_988bbc183cbd4128aaa87c19cd67d8ec",
            "_dom_classes": [],
            "description": "100%",
            "_model_name": "FloatProgressModel",
            "bar_style": "success",
            "max": 10,
            "_view_module": "@jupyter-widgets/controls",
            "_model_module_version": "1.5.0",
            "value": 10,
            "_view_count": null,
            "_view_module_version": "1.5.0",
            "orientation": "horizontal",
            "min": 0,
            "description_tooltip": null,
            "_model_module": "@jupyter-widgets/controls",
            "layout": "IPY_MODEL_afbb89b3f4134b7c8745610b1f72acd8"
          }
        },
        "1d0323b88e7642eda573c569300988ad": {
          "model_module": "@jupyter-widgets/controls",
          "model_name": "HTMLModel",
          "state": {
            "_view_name": "HTMLView",
            "style": "IPY_MODEL_bef3c290f16d40f7a1b7ff6ab5de3ea5",
            "_dom_classes": [],
            "description": "",
            "_model_name": "HTMLModel",
            "placeholder": "​",
            "_view_module": "@jupyter-widgets/controls",
            "_model_module_version": "1.5.0",
            "value": " 10/10 [08:40&lt;00:00, 52.04s/it]",
            "_view_count": null,
            "_view_module_version": "1.5.0",
            "description_tooltip": null,
            "_model_module": "@jupyter-widgets/controls",
            "layout": "IPY_MODEL_b1bd5748a86540c596940078ea1979ff"
          }
        },
        "988bbc183cbd4128aaa87c19cd67d8ec": {
          "model_module": "@jupyter-widgets/controls",
          "model_name": "ProgressStyleModel",
          "state": {
            "_view_name": "StyleView",
            "_model_name": "ProgressStyleModel",
            "description_width": "initial",
            "_view_module": "@jupyter-widgets/base",
            "_model_module_version": "1.5.0",
            "_view_count": null,
            "_view_module_version": "1.2.0",
            "bar_color": null,
            "_model_module": "@jupyter-widgets/controls"
          }
        },
        "afbb89b3f4134b7c8745610b1f72acd8": {
          "model_module": "@jupyter-widgets/base",
          "model_name": "LayoutModel",
          "state": {
            "_view_name": "LayoutView",
            "grid_template_rows": null,
            "right": null,
            "justify_content": null,
            "_view_module": "@jupyter-widgets/base",
            "overflow": null,
            "_model_module_version": "1.2.0",
            "_view_count": null,
            "flex_flow": null,
            "width": null,
            "min_width": null,
            "border": null,
            "align_items": null,
            "bottom": null,
            "_model_module": "@jupyter-widgets/base",
            "top": null,
            "grid_column": null,
            "overflow_y": null,
            "overflow_x": null,
            "grid_auto_flow": null,
            "grid_area": null,
            "grid_template_columns": null,
            "flex": null,
            "_model_name": "LayoutModel",
            "justify_items": null,
            "grid_row": null,
            "max_height": null,
            "align_content": null,
            "visibility": null,
            "align_self": null,
            "height": null,
            "min_height": null,
            "padding": null,
            "grid_auto_rows": null,
            "grid_gap": null,
            "max_width": null,
            "order": null,
            "_view_module_version": "1.2.0",
            "grid_template_areas": null,
            "object_position": null,
            "object_fit": null,
            "grid_auto_columns": null,
            "margin": null,
            "display": null,
            "left": null
          }
        },
        "bef3c290f16d40f7a1b7ff6ab5de3ea5": {
          "model_module": "@jupyter-widgets/controls",
          "model_name": "DescriptionStyleModel",
          "state": {
            "_view_name": "StyleView",
            "_model_name": "DescriptionStyleModel",
            "description_width": "",
            "_view_module": "@jupyter-widgets/base",
            "_model_module_version": "1.5.0",
            "_view_count": null,
            "_view_module_version": "1.2.0",
            "_model_module": "@jupyter-widgets/controls"
          }
        },
        "b1bd5748a86540c596940078ea1979ff": {
          "model_module": "@jupyter-widgets/base",
          "model_name": "LayoutModel",
          "state": {
            "_view_name": "LayoutView",
            "grid_template_rows": null,
            "right": null,
            "justify_content": null,
            "_view_module": "@jupyter-widgets/base",
            "overflow": null,
            "_model_module_version": "1.2.0",
            "_view_count": null,
            "flex_flow": null,
            "width": null,
            "min_width": null,
            "border": null,
            "align_items": null,
            "bottom": null,
            "_model_module": "@jupyter-widgets/base",
            "top": null,
            "grid_column": null,
            "overflow_y": null,
            "overflow_x": null,
            "grid_auto_flow": null,
            "grid_area": null,
            "grid_template_columns": null,
            "flex": null,
            "_model_name": "LayoutModel",
            "justify_items": null,
            "grid_row": null,
            "max_height": null,
            "align_content": null,
            "visibility": null,
            "align_self": null,
            "height": null,
            "min_height": null,
            "padding": null,
            "grid_auto_rows": null,
            "grid_gap": null,
            "max_width": null,
            "order": null,
            "_view_module_version": "1.2.0",
            "grid_template_areas": null,
            "object_position": null,
            "object_fit": null,
            "grid_auto_columns": null,
            "margin": null,
            "display": null,
            "left": null
          }
        },
        "3fc38205e5fa44aa9dd08169031da597": {
          "model_module": "@jupyter-widgets/controls",
          "model_name": "HBoxModel",
          "state": {
            "_view_name": "HBoxView",
            "_dom_classes": [],
            "_model_name": "HBoxModel",
            "_view_module": "@jupyter-widgets/controls",
            "_model_module_version": "1.5.0",
            "_view_count": null,
            "_view_module_version": "1.5.0",
            "box_style": "",
            "layout": "IPY_MODEL_2fd5c9fec88640ffbb767bb87b5b5285",
            "_model_module": "@jupyter-widgets/controls",
            "children": [
              "IPY_MODEL_541c642a417345edbdf303c8d5d3f8bd",
              "IPY_MODEL_40f27fe6918847228f59f0ec5aaa75e7"
            ]
          }
        },
        "2fd5c9fec88640ffbb767bb87b5b5285": {
          "model_module": "@jupyter-widgets/base",
          "model_name": "LayoutModel",
          "state": {
            "_view_name": "LayoutView",
            "grid_template_rows": null,
            "right": null,
            "justify_content": null,
            "_view_module": "@jupyter-widgets/base",
            "overflow": null,
            "_model_module_version": "1.2.0",
            "_view_count": null,
            "flex_flow": null,
            "width": null,
            "min_width": null,
            "border": null,
            "align_items": null,
            "bottom": null,
            "_model_module": "@jupyter-widgets/base",
            "top": null,
            "grid_column": null,
            "overflow_y": null,
            "overflow_x": null,
            "grid_auto_flow": null,
            "grid_area": null,
            "grid_template_columns": null,
            "flex": null,
            "_model_name": "LayoutModel",
            "justify_items": null,
            "grid_row": null,
            "max_height": null,
            "align_content": null,
            "visibility": null,
            "align_self": null,
            "height": null,
            "min_height": null,
            "padding": null,
            "grid_auto_rows": null,
            "grid_gap": null,
            "max_width": null,
            "order": null,
            "_view_module_version": "1.2.0",
            "grid_template_areas": null,
            "object_position": null,
            "object_fit": null,
            "grid_auto_columns": null,
            "margin": null,
            "display": null,
            "left": null
          }
        },
        "541c642a417345edbdf303c8d5d3f8bd": {
          "model_module": "@jupyter-widgets/controls",
          "model_name": "FloatProgressModel",
          "state": {
            "_view_name": "ProgressView",
            "style": "IPY_MODEL_dde9347cb3bc45f4b188cce669c992e8",
            "_dom_classes": [],
            "description": "100%",
            "_model_name": "FloatProgressModel",
            "bar_style": "success",
            "max": 10,
            "_view_module": "@jupyter-widgets/controls",
            "_model_module_version": "1.5.0",
            "value": 10,
            "_view_count": null,
            "_view_module_version": "1.5.0",
            "orientation": "horizontal",
            "min": 0,
            "description_tooltip": null,
            "_model_module": "@jupyter-widgets/controls",
            "layout": "IPY_MODEL_dec4bfb9d78c46aa97adb5cc963acdc0"
          }
        },
        "40f27fe6918847228f59f0ec5aaa75e7": {
          "model_module": "@jupyter-widgets/controls",
          "model_name": "HTMLModel",
          "state": {
            "_view_name": "HTMLView",
            "style": "IPY_MODEL_98b193f33c9049ae834123da8f9edbf0",
            "_dom_classes": [],
            "description": "",
            "_model_name": "HTMLModel",
            "placeholder": "​",
            "_view_module": "@jupyter-widgets/controls",
            "_model_module_version": "1.5.0",
            "value": " 10/10 [00:27&lt;00:00,  2.79s/it]",
            "_view_count": null,
            "_view_module_version": "1.5.0",
            "description_tooltip": null,
            "_model_module": "@jupyter-widgets/controls",
            "layout": "IPY_MODEL_18dd814f18694dbeb2580f49bf5a54ce"
          }
        },
        "dde9347cb3bc45f4b188cce669c992e8": {
          "model_module": "@jupyter-widgets/controls",
          "model_name": "ProgressStyleModel",
          "state": {
            "_view_name": "StyleView",
            "_model_name": "ProgressStyleModel",
            "description_width": "initial",
            "_view_module": "@jupyter-widgets/base",
            "_model_module_version": "1.5.0",
            "_view_count": null,
            "_view_module_version": "1.2.0",
            "bar_color": null,
            "_model_module": "@jupyter-widgets/controls"
          }
        },
        "dec4bfb9d78c46aa97adb5cc963acdc0": {
          "model_module": "@jupyter-widgets/base",
          "model_name": "LayoutModel",
          "state": {
            "_view_name": "LayoutView",
            "grid_template_rows": null,
            "right": null,
            "justify_content": null,
            "_view_module": "@jupyter-widgets/base",
            "overflow": null,
            "_model_module_version": "1.2.0",
            "_view_count": null,
            "flex_flow": null,
            "width": null,
            "min_width": null,
            "border": null,
            "align_items": null,
            "bottom": null,
            "_model_module": "@jupyter-widgets/base",
            "top": null,
            "grid_column": null,
            "overflow_y": null,
            "overflow_x": null,
            "grid_auto_flow": null,
            "grid_area": null,
            "grid_template_columns": null,
            "flex": null,
            "_model_name": "LayoutModel",
            "justify_items": null,
            "grid_row": null,
            "max_height": null,
            "align_content": null,
            "visibility": null,
            "align_self": null,
            "height": null,
            "min_height": null,
            "padding": null,
            "grid_auto_rows": null,
            "grid_gap": null,
            "max_width": null,
            "order": null,
            "_view_module_version": "1.2.0",
            "grid_template_areas": null,
            "object_position": null,
            "object_fit": null,
            "grid_auto_columns": null,
            "margin": null,
            "display": null,
            "left": null
          }
        },
        "98b193f33c9049ae834123da8f9edbf0": {
          "model_module": "@jupyter-widgets/controls",
          "model_name": "DescriptionStyleModel",
          "state": {
            "_view_name": "StyleView",
            "_model_name": "DescriptionStyleModel",
            "description_width": "",
            "_view_module": "@jupyter-widgets/base",
            "_model_module_version": "1.5.0",
            "_view_count": null,
            "_view_module_version": "1.2.0",
            "_model_module": "@jupyter-widgets/controls"
          }
        },
        "18dd814f18694dbeb2580f49bf5a54ce": {
          "model_module": "@jupyter-widgets/base",
          "model_name": "LayoutModel",
          "state": {
            "_view_name": "LayoutView",
            "grid_template_rows": null,
            "right": null,
            "justify_content": null,
            "_view_module": "@jupyter-widgets/base",
            "overflow": null,
            "_model_module_version": "1.2.0",
            "_view_count": null,
            "flex_flow": null,
            "width": null,
            "min_width": null,
            "border": null,
            "align_items": null,
            "bottom": null,
            "_model_module": "@jupyter-widgets/base",
            "top": null,
            "grid_column": null,
            "overflow_y": null,
            "overflow_x": null,
            "grid_auto_flow": null,
            "grid_area": null,
            "grid_template_columns": null,
            "flex": null,
            "_model_name": "LayoutModel",
            "justify_items": null,
            "grid_row": null,
            "max_height": null,
            "align_content": null,
            "visibility": null,
            "align_self": null,
            "height": null,
            "min_height": null,
            "padding": null,
            "grid_auto_rows": null,
            "grid_gap": null,
            "max_width": null,
            "order": null,
            "_view_module_version": "1.2.0",
            "grid_template_areas": null,
            "object_position": null,
            "object_fit": null,
            "grid_auto_columns": null,
            "margin": null,
            "display": null,
            "left": null
          }
        }
      }
    }
  },
  "cells": [
    {
      "cell_type": "markdown",
      "metadata": {
        "id": "view-in-github",
        "colab_type": "text"
      },
      "source": [
        "<a href=\"https://colab.research.google.com/github/KK-Gayatri-P/Membership-Inference-Attacks/blob/main/Membership_Inference.ipynb\" target=\"_parent\"><img src=\"https://colab.research.google.com/assets/colab-badge.svg\" alt=\"Open In Colab\"/></a>"
      ]
    },
    {
      "cell_type": "markdown",
      "metadata": {
        "id": "-hQUCdFxYZeo"
      },
      "source": [
        "# **Membership Inference Attack**"
      ]
    },
    {
      "cell_type": "markdown",
      "metadata": {
        "id": "d4hc7rxhYqDI"
      },
      "source": [
        "The past few years have shown the increase in popularity of the different deep learning and machine learning algorithms in different firlds, from healthcare to automation industry and in security as well.But with this rise , there has been a growth in the susceptibility of these algortihms being used, automatically making the data set susceptible as well.\n",
        "\n",
        "\n"
      ]
    },
    {
      "cell_type": "markdown",
      "metadata": {
        "id": "BYKiM1ddgtFg"
      },
      "source": [
        "**What is Membership Inference**"
      ]
    },
    {
      "cell_type": "markdown",
      "metadata": {
        "id": "bIGndfqchB9Z"
      },
      "source": [
        "One such attack is black-box Membership Inference attack. A black box scenario is one in which the attacker can give input to the model and recieve the corresponding output of the data (like any other client wanting to use the model).Despite these limitations, a carefully constructed adversary is able to infer the membership of a data record in the training dataset.\n",
        "\n",
        "Without the original membership data it seems impossible to train an adversary to infer membership. This problem necessitates an additional shadow model which mimics the behavior of the target model and whose training dataset membership is known. The outputs of the shadow model along with the membership labels are then used to train the attack model.\n",
        "\n"
      ]
    },
    {
      "cell_type": "markdown",
      "metadata": {
        "id": "pwI6bv4Ev7p2"
      },
      "source": [
        "This is the basic scenario:-"
      ]
    },
    {
      "cell_type": "markdown",
      "metadata": {
        "id": "POFGHu--rpYy"
      },
      "source": [
        "![image.png](data:image/png;base64,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)"
      ]
    },
    {
      "cell_type": "markdown",
      "metadata": {
        "id": "FneoA_LLuk_f"
      },
      "source": [
        "How Membership Inference and Model Inversion are different -"
      ]
    },
    {
      "cell_type": "markdown",
      "metadata": {
        "id": "10WgDZuWuSSa"
      },
      "source": [
        "![image.png](data:image/png;base64,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)"
      ]
    },
    {
      "cell_type": "markdown",
      "metadata": {
        "id": "A1H5V2qYhxNS"
      },
      "source": [
        "**The Models**"
      ]
    },
    {
      "cell_type": "markdown",
      "metadata": {
        "id": "JTYTrmFLh09X"
      },
      "source": [
        "**Target Model:**\n",
        "\n",
        "Purpose- Perform a classification task\n",
        "\n",
        "Inputs- Samples from a multi-class data distribution(images, incase of an image classifier).\n",
        "\n",
        "Outputs- Categorical Class labels (probability vector with length equal to the number of classes)\n",
        "\n",
        "\n",
        "**Shadow Model:**\n",
        "\n",
        "Purpose- Produce 2 sets of classification probability vectors (one set generated from training data, another set generated from non-training data) to be used in training the attack network\n",
        "\n",
        "Inputs- Samples from a multi-class data distribution(images, incase of an image classifier).\n",
        "\n",
        "Outputs-Categorical Class labels (probability vector with length equal to the number of classes)\n",
        "\n",
        "**Attack Model:**\n",
        "\n",
        "Purpose: Perform membership inference by learning to classify probability vectors coming from the in-training set versus the out-of-training set.\n",
        "\n",
        "Inputs: Probability vectors generated from either the in-training set or out-of-training set.\n",
        "\n",
        "Outputs: Probability the input is a member of the in-training set.\n"
      ]
    },
    {
      "cell_type": "markdown",
      "metadata": {
        "id": "E9M92TxwpX88"
      },
      "source": [
        "The attackers' data set needs to be closest to the training data of the target data.\n",
        "\n",
        "For more information, visit [this](https://github.com/csong27/membership-inference)."
      ]
    },
    {
      "cell_type": "code",
      "metadata": {
        "id": "v8vRXPhoXRgZ"
      },
      "source": [
        "from collections import namedtuple\n",
        "\n",
        "import matplotlib.pyplot as plt\n",
        "import torch\n",
        "import torchvision.transforms as transforms\n",
        "from torchvision.datasets import EMNIST, MNIST\n",
        "from tqdm.notebook import tqdm, trange\n",
        "import torch.nn as nn\n",
        "import matplotlib.pyplot as plt\n",
        "from torch.autograd import Variable"
      ],
      "execution_count": null,
      "outputs": []
    },
    {
      "cell_type": "code",
      "metadata": {
        "id": "gBeraLUGYMOp"
      },
      "source": [
        "%matplotlib inline"
      ],
      "execution_count": null,
      "outputs": []
    },
    {
      "cell_type": "markdown",
      "metadata": {
        "id": "ZXEzSdNiHP5c"
      },
      "source": [
        "Start by creating a basic classifier in PyTorch, split into two parts to signify the data owner and the computational server of a SplitNN (both parts are on the same machine in this example, but you can use your imagination).\n",
        "\n",
        "Define hyperparameters for training the target model"
      ]
    },
    {
      "cell_type": "code",
      "metadata": {
        "id": "UJpT2QgcYOEf"
      },
      "source": [
        "hyperparams = namedtuple('hyperparams', 'batch_size,epochs,learning_rate,n_data')\n",
        "\n",
        "# Target model hyperparameters\n",
        "target_hyperparams = hyperparams(\n",
        "    batch_size=256,\n",
        "    epochs=10,\n",
        "    learning_rate=1e-4,\n",
        "    n_data=20_000,  # We don't need all the training data to get a decent MNIST classifier\n",
        ")\n"
      ],
      "execution_count": null,
      "outputs": []
    },
    {
      "cell_type": "markdown",
      "metadata": {
        "id": "CQc83tIqXYWe"
      },
      "source": [
        "Using some part of the MNIST dataset as the training dataset and some as test data for the Target Model "
      ]
    },
    {
      "cell_type": "code",
      "metadata": {
        "id": "TYEsH8Max7FP",
        "colab": {
          "base_uri": "https://localhost:8080/",
          "height": 366,
          "referenced_widgets": [
            "b797973bf23a4d25a6fdad0775f965bd",
            "f72a29643f714dc1b4a20cebc7d251fe",
            "81b82da80f674035ba289b6b690a1cd2",
            "896af901bec84b07bc021cbcf02a9a1e",
            "d01918c0e91c4850ba5b0ca3e93d2b94",
            "9c4a3621e21642c8ab0068b947595b9e",
            "ab0879fb35554b31a545ff8e2dc4d181",
            "c8395958a7454930aa21c7a31efeca32",
            "fde930a848864a11936fd084300c613c",
            "0b6a2d16efd34fc48fbf7002841728e8",
            "9ef1ece3d29f4814ad58b522160490e1",
            "83183c74779d461a9958e4ff71c2bd65",
            "7bd1e56f9e3b43d3bfb8ce1b7388db01",
            "9b08cc0105cd40fc997f5a6b91e166d7",
            "875370ee61854bcbb4f56dd7accac0d9",
            "ba9717fe64d74dea8ba5e20c4209d126",
            "9934ea172a074570937d209f4f389b9a",
            "86dcf65441ef4599b0052082b0b9ef84",
            "47fd4e64860b4d819943e16b937729a0",
            "663f05287e6d4c16b2af65c7f8c0d78f",
            "b326b9ef97b443b98c348504bb670f7f",
            "86b59a605c00435d801e62d426b042c2",
            "6e8558bf51c44f03ba689600bd2aa47c",
            "83b1deb3606b44269101241084138d1a",
            "a8c3b33fdf3344059b2f0e19dfaf8b37",
            "872e05e531af4be2bac195ac52033de8",
            "1e27c74bde114c3d828f434cd28b9783",
            "62842fb4742b4f0d885ec50b8144db68",
            "9012d1c4ffeb4296b2774ca22cd3eab6",
            "c36240940c3349c4b518314b4786d9fd",
            "188f24eadd484e248dca6a4db0900370",
            "3eec6c190d4e47769961a776216e16a2"
          ]
        },
        "outputId": "47b77645-64a5-4871-f3ab-947e7da07af5"
      },
      "source": [
        "mnist_transform = transforms.Compose(\n",
        "    [transforms.ToTensor(), transforms.Normalize((0.1307,), (0.3081,)),]\n",
        ")\n",
        "\n",
        "# Target model training data\n",
        "train_data = MNIST(\"mnist\", train=True, download=True, transform=mnist_transform)\n",
        "\n",
        "# We don't need to use all the training data for MNIST as it's a simple dataset\n",
        "train_data.data = train_data.data[:target_hyperparams.n_data]\n",
        "train_data.targets = train_data.targets[:target_hyperparams.n_data]\n",
        "\n",
        "# Target model test data\n",
        "test_data = MNIST(\"mnist\", train=False, download=True, transform=mnist_transform)\n",
        "\n",
        "# Create data loaders\n",
        "train_loader = torch.utils.data.DataLoader(train_data, batch_size=target_hyperparams.batch_size)\n",
        "test_loader = torch.utils.data.DataLoader(test_data, batch_size=1_000)"
      ],
      "execution_count": null,
      "outputs": [
        {
          "output_type": "stream",
          "text": [
            "Downloading http://yann.lecun.com/exdb/mnist/train-images-idx3-ubyte.gz to mnist/MNIST/raw/train-images-idx3-ubyte.gz\n"
          ],
          "name": "stdout"
        },
        {
          "output_type": "display_data",
          "data": {
            "application/vnd.jupyter.widget-view+json": {
              "model_id": "b797973bf23a4d25a6fdad0775f965bd",
              "version_minor": 0,
              "version_major": 2
            },
            "text/plain": [
              "HBox(children=(FloatProgress(value=1.0, bar_style='info', max=1.0), HTML(value='')))"
            ]
          },
          "metadata": {
            "tags": []
          }
        },
        {
          "output_type": "stream",
          "text": [
            "Extracting mnist/MNIST/raw/train-images-idx3-ubyte.gz to mnist/MNIST/raw\n",
            "Downloading http://yann.lecun.com/exdb/mnist/train-labels-idx1-ubyte.gz to mnist/MNIST/raw/train-labels-idx1-ubyte.gz\n"
          ],
          "name": "stdout"
        },
        {
          "output_type": "display_data",
          "data": {
            "application/vnd.jupyter.widget-view+json": {
              "model_id": "fde930a848864a11936fd084300c613c",
              "version_minor": 0,
              "version_major": 2
            },
            "text/plain": [
              "HBox(children=(FloatProgress(value=1.0, bar_style='info', max=1.0), HTML(value='')))"
            ]
          },
          "metadata": {
            "tags": []
          }
        },
        {
          "output_type": "stream",
          "text": [
            "Extracting mnist/MNIST/raw/train-labels-idx1-ubyte.gz to mnist/MNIST/raw\n",
            "Downloading http://yann.lecun.com/exdb/mnist/t10k-images-idx3-ubyte.gz to mnist/MNIST/raw/t10k-images-idx3-ubyte.gz\n"
          ],
          "name": "stdout"
        },
        {
          "output_type": "display_data",
          "data": {
            "application/vnd.jupyter.widget-view+json": {
              "model_id": "9934ea172a074570937d209f4f389b9a",
              "version_minor": 0,
              "version_major": 2
            },
            "text/plain": [
              "HBox(children=(FloatProgress(value=1.0, bar_style='info', max=1.0), HTML(value='')))"
            ]
          },
          "metadata": {
            "tags": []
          }
        },
        {
          "output_type": "stream",
          "text": [
            "Extracting mnist/MNIST/raw/t10k-images-idx3-ubyte.gz to mnist/MNIST/raw\n",
            "Downloading http://yann.lecun.com/exdb/mnist/t10k-labels-idx1-ubyte.gz to mnist/MNIST/raw/t10k-labels-idx1-ubyte.gz\n"
          ],
          "name": "stdout"
        },
        {
          "output_type": "display_data",
          "data": {
            "application/vnd.jupyter.widget-view+json": {
              "model_id": "a8c3b33fdf3344059b2f0e19dfaf8b37",
              "version_minor": 0,
              "version_major": 2
            },
            "text/plain": [
              "HBox(children=(FloatProgress(value=1.0, bar_style='info', max=1.0), HTML(value='')))"
            ]
          },
          "metadata": {
            "tags": []
          }
        },
        {
          "output_type": "stream",
          "text": [
            "Extracting mnist/MNIST/raw/t10k-labels-idx1-ubyte.gz to mnist/MNIST/raw\n",
            "Processing...\n",
            "Done!\n"
          ],
          "name": "stdout"
        },
        {
          "output_type": "stream",
          "text": [
            "/usr/local/lib/python3.6/dist-packages/torchvision/datasets/mnist.py:469: UserWarning: The given NumPy array is not writeable, and PyTorch does not support non-writeable tensors. This means you can write to the underlying (supposedly non-writeable) NumPy array using the tensor. You may want to copy the array to protect its data or make it writeable before converting it to a tensor. This type of warning will be suppressed for the rest of this program. (Triggered internally at  /pytorch/torch/csrc/utils/tensor_numpy.cpp:141.)\n",
            "  return torch.from_numpy(parsed.astype(m[2], copy=False)).view(*s)\n"
          ],
          "name": "stderr"
        }
      ]
    },
    {
      "cell_type": "markdown",
      "metadata": {
        "id": "xNANekF6Hf9c"
      },
      "source": [
        " **Create a basic classifier**"
      ]
    },
    {
      "cell_type": "markdown",
      "metadata": {
        "id": "G2apDUtEYcq5"
      },
      "source": [
        "The classifier is split into two parts to signinfy the data owner and computational server of a server of a SplitNN."
      ]
    },
    {
      "cell_type": "code",
      "metadata": {
        "id": "yW-N24cnHkeU"
      },
      "source": [
        "class Classifier(torch.nn.Module):\n",
        "    def __init__(self, first_network, second_network) -> None:\n",
        "        super().__init__()\n",
        "\n",
        "        # --- First stage --- #\n",
        "        self.stage1 = first_network\n",
        "        \n",
        "        # --- Second stage --- #\n",
        "        # In practice, at this point the output of the previous stage would be transmitted to\n",
        "        # a central server, where inference would continue\n",
        "        self.stage2 = second_network\n",
        "\n",
        "    def mobile_stage(self, x):\n",
        "        return self.stage1(x)\n",
        "\n",
        "    def forward(self, x):\n",
        "        out = self.mobile_stage(x)\n",
        "        out = out.view(out.size(0), -1)\n",
        "\n",
        "        return self.stage2(out)"
      ],
      "execution_count": null,
      "outputs": []
    },
    {
      "cell_type": "code",
      "metadata": {
        "id": "6mTmuCsDHxO9",
        "colab": {
          "base_uri": "https://localhost:8080/",
          "height": 66,
          "referenced_widgets": [
            "5f68880c36c14234aacc518fb54309d4",
            "8ce9b14a6ef84f21a575cf4629bcdb63",
            "c388156d182e4fc5ba3c35a37933d191",
            "1d0323b88e7642eda573c569300988ad",
            "988bbc183cbd4128aaa87c19cd67d8ec",
            "afbb89b3f4134b7c8745610b1f72acd8",
            "bef3c290f16d40f7a1b7ff6ab5de3ea5",
            "b1bd5748a86540c596940078ea1979ff"
          ]
        },
        "outputId": "d7c75712-0a3e-44d7-9ed7-d7cdbcd0931d"
      },
      "source": [
        "# The first part of the network. This would be hosted on a mobile device\n",
        "first_network = torch.nn.Sequential(\n",
        "                torch.nn.Conv2d(1, 32, kernel_size=5, padding=0, stride=1),  # first Conv layer\n",
        "                torch.nn.ReLU(),\n",
        "                torch.nn.MaxPool2d(kernel_size=2),\n",
        "                torch.nn.Conv2d(32, 32, kernel_size=5, padding=0, stride=1),  # second Conv layer\n",
        "                torch.nn.ReLU(),\n",
        "                torch.nn.MaxPool2d(kernel_size=2),\n",
        "        )\n",
        "\n",
        "\n",
        "# The second and final part of the network. This would be typically hosted on a central server in practice\n",
        "second_network = torch.nn.Sequential(\n",
        "                torch.nn.Linear(512, 256),\n",
        "                torch.nn.ReLU(),\n",
        "                torch.nn.Linear(256, 10),  # 10-class output\n",
        "                torch.nn.Softmax(dim=-1),\n",
        "        )\n",
        "\n",
        "target_model = Classifier(first_network, second_network)\n",
        "target_model\n",
        "\n",
        "\"\"\"\n",
        "Training the Target MOdel\n",
        "\"\"\"\n",
        "\n",
        "optim = torch.optim.Adam(target_model.parameters(), lr=target_hyperparams.learning_rate)\n",
        "loss_criterion = torch.nn.CrossEntropyLoss()\n",
        "for epoch in trange(target_hyperparams.epochs):\n",
        "    train_correct = 0\n",
        "    train_loss = 0.\n",
        "\n",
        "    # Training loop\n",
        "    for data, targets in train_loader:\n",
        "        #print(targets)\n",
        "        optim.zero_grad()\n",
        "        #print(targets.size())\n",
        "\n",
        "        output = target_model(data)\n",
        "\n",
        "        # Update network\n",
        "        loss = loss_criterion(output, targets)\n",
        "        loss.backward()\n",
        "        optim.step()\n",
        "\n",
        "        # Track training statistics\n",
        "        _, predicted = output.max(1)\n",
        "        train_correct += predicted.eq(targets).sum().item()\n",
        "        train_loss += loss.item()\n"
      ],
      "execution_count": null,
      "outputs": [
        {
          "output_type": "display_data",
          "data": {
            "application/vnd.jupyter.widget-view+json": {
              "model_id": "5f68880c36c14234aacc518fb54309d4",
              "version_minor": 0,
              "version_major": 2
            },
            "text/plain": [
              "HBox(children=(FloatProgress(value=0.0, max=10.0), HTML(value='')))"
            ]
          },
          "metadata": {
            "tags": []
          }
        },
        {
          "output_type": "stream",
          "text": [
            "\n"
          ],
          "name": "stdout"
        }
      ]
    },
    {
      "cell_type": "markdown",
      "metadata": {
        "id": "mmmePembIz9t"
      },
      "source": [
        "# **Training a shadow model**"
      ]
    },
    {
      "cell_type": "markdown",
      "metadata": {
        "id": "sm7FJQIZeoXR"
      },
      "source": [
        "We don’t know exactly what data the target model has been trained on, but we do know that it’s some sort of handwritten images. Therefore we can use part of the EMNIST dataset of handwritten letters to train our attacker which can be a shadow of the Target model which is trained by the attacker."
      ]
    },
    {
      "cell_type": "code",
      "metadata": {
        "id": "oJRcDtooI3yg",
        "colab": {
          "base_uri": "https://localhost:8080/",
          "height": 286
        },
        "outputId": "0c671294-6e57-4918-8851-087f4168b865"
      },
      "source": [
        "\"\"\"\n",
        "Training data for Shadow model\n",
        "\n",
        "\"\"\"\n",
        "\n",
        "# shadow model hyperparameters\n",
        "shadow_hyperparams = hyperparams(\n",
        "    batch_size=32,\n",
        "    epochs=10,\n",
        "    learning_rate=1e-4,\n",
        "    n_data=1_000,\n",
        ")\n",
        "\n",
        "emnist_transform = transforms.Compose(\n",
        "    [transforms.ToTensor(), transforms.Normalize((0.1307,), (0.3081,)),]\n",
        ")\n",
        "shadow_train = EMNIST(\"emnist\", \"digits\", download=True, train=True, transform=emnist_transform)\n",
        "\n",
        "# Use the last n_data images in the test set to train the attacker\n",
        "shadow_train.data = shadow_train.data[:shadow_hyperparams.n_data]\n",
        "shadow_train.targets = shadow_train.targets[:shadow_hyperparams.n_data]\n",
        "\n",
        "shadow_train_loader = torch.utils.data.DataLoader(shadow_train, batch_size=shadow_hyperparams.batch_size)\n",
        "\n",
        "#for test data\n",
        "\n",
        "shadow_test = EMNIST(\"emnist\", \"letters\", download=True, train=False, transform=emnist_transform)\n",
        "\n",
        "shadow_test.data = shadow_test.data[:shadow_hyperparams.n_data]\n",
        "shadow_test.targets = shadow_test.targets[:shadow_hyperparams.n_data]\n",
        "\n",
        "shadow_test_loader = torch.utils.data.DataLoader(shadow_test, batch_size=1_000)\n",
        "\n",
        "\n",
        "\"\"\"\n",
        "Model for Shadow Models\n",
        "\n",
        "\"\"\"\n",
        "class ShadowModel(torch.nn.Module):\n",
        "    def __init__(self,first_network, second_network) -> None:\n",
        "        super().__init__()\n",
        "\n",
        "        self.stage1 = first_network\n",
        "        \n",
        "        # --- Second stage --- #\n",
        "        # In practice, at this point the output of the previous stage would be transmitted to\n",
        "        # a central server, where inference would continue\n",
        "        self.stage2 = second_network\n",
        "        \n",
        "\n",
        "        \n",
        "    def mobile_stage(self, x):\n",
        "        return self.stage1(x)\n",
        "\n",
        "    def forward(self, x):\n",
        "        out = self.mobile_stage(x)\n",
        "        out = out.view(out.size(0), -1)\n",
        "        return self.stage2(out)\n",
        "first_network = torch.nn.Sequential(\n",
        "                torch.nn.Conv2d(1, 32, kernel_size=5, padding=0, stride=1),  # first Conv layer\n",
        "                torch.nn.ReLU(),\n",
        "                torch.nn.MaxPool2d(kernel_size=2),\n",
        "                torch.nn.Conv2d(32, 32, kernel_size=5, padding=0, stride=1),  # second Conv layer\n",
        "                torch.nn.ReLU(),\n",
        "                torch.nn.MaxPool2d(kernel_size=2),\n",
        "        )\n",
        "\n",
        "\n",
        "# The second and final part of the network. This would be typically hosted on a central server in practice\n",
        "second_network = torch.nn.Sequential(\n",
        "                torch.nn.Linear(512, 256),\n",
        "                torch.nn.ReLU(),\n",
        "                torch.nn.Linear(256, 10),  # 10-class output\n",
        "                torch.nn.Softmax(dim=-1),\n",
        "        )\n",
        "\n",
        "# Get Shadow model\n",
        "shadow_model = ShadowModel(first_network,second_network)\n",
        "shadow_model\n"
      ],
      "execution_count": null,
      "outputs": [
        {
          "output_type": "execute_result",
          "data": {
            "text/plain": [
              "ShadowModel(\n",
              "  (stage1): Sequential(\n",
              "    (0): Conv2d(1, 32, kernel_size=(5, 5), stride=(1, 1))\n",
              "    (1): ReLU()\n",
              "    (2): MaxPool2d(kernel_size=2, stride=2, padding=0, dilation=1, ceil_mode=False)\n",
              "    (3): Conv2d(32, 32, kernel_size=(5, 5), stride=(1, 1))\n",
              "    (4): ReLU()\n",
              "    (5): MaxPool2d(kernel_size=2, stride=2, padding=0, dilation=1, ceil_mode=False)\n",
              "  )\n",
              "  (stage2): Sequential(\n",
              "    (0): Linear(in_features=512, out_features=256, bias=True)\n",
              "    (1): ReLU()\n",
              "    (2): Linear(in_features=256, out_features=10, bias=True)\n",
              "    (3): Softmax(dim=-1)\n",
              "  )\n",
              ")"
            ]
          },
          "metadata": {
            "tags": []
          },
          "execution_count": 93
        }
      ]
    },
    {
      "cell_type": "markdown",
      "metadata": {
        "id": "TbVJHadvaUfR"
      },
      "source": [
        "Training the Shadow Model"
      ]
    },
    {
      "cell_type": "code",
      "metadata": {
        "id": "oz4duLKKanbN",
        "colab": {
          "base_uri": "https://localhost:8080/",
          "height": 66,
          "referenced_widgets": [
            "3fc38205e5fa44aa9dd08169031da597",
            "2fd5c9fec88640ffbb767bb87b5b5285",
            "541c642a417345edbdf303c8d5d3f8bd",
            "40f27fe6918847228f59f0ec5aaa75e7",
            "dde9347cb3bc45f4b188cce669c992e8",
            "dec4bfb9d78c46aa97adb5cc963acdc0",
            "98b193f33c9049ae834123da8f9edbf0",
            "18dd814f18694dbeb2580f49bf5a54ce"
          ]
        },
        "outputId": "94fd43e6-fd7b-44ce-9d63-e88b8a511a77"
      },
      "source": [
        "shadow_optim = torch.optim.Adam(shadow_model.parameters(), lr=shadow_hyperparams.learning_rate)\n",
        "loss_criterion = torch.nn.CrossEntropyLoss()\n",
        "\n",
        "for epoch in trange(shadow_hyperparams.epochs):\n",
        "    train_correct = 0\n",
        "    train_loss = 0.\n",
        "\n",
        "    # Training loop\n",
        "    for data, targets in shadow_train_loader:\n",
        "        shadow_optim.zero_grad()\n",
        "        output = shadow_model(data)\n",
        "\n",
        "    # Update network\n",
        "        loss = loss_criterion(output, targets)\n",
        "        loss.backward()\n",
        "        shadow_optim.step()\n",
        "\n",
        "        # Track training statistics\n",
        "        _, predicted = output.max(1)\n",
        "        train_correct += predicted.eq(targets).sum().item()\n",
        "        train_loss += loss.item()\n",
        "\n",
        "s1=output"
      ],
      "execution_count": null,
      "outputs": [
        {
          "output_type": "display_data",
          "data": {
            "application/vnd.jupyter.widget-view+json": {
              "model_id": "3fc38205e5fa44aa9dd08169031da597",
              "version_minor": 0,
              "version_major": 2
            },
            "text/plain": [
              "HBox(children=(FloatProgress(value=0.0, max=10.0), HTML(value='')))"
            ]
          },
          "metadata": {
            "tags": []
          }
        },
        {
          "output_type": "stream",
          "text": [
            "\n"
          ],
          "name": "stdout"
        }
      ]
    },
    {
      "cell_type": "markdown",
      "metadata": {
        "id": "aAwoK-wIJsxb"
      },
      "source": [
        "\n",
        "\n",
        "# **Attack Model**"
      ]
    },
    {
      "cell_type": "markdown",
      "metadata": {
        "id": "T8fQOe-CJAto"
      },
      "source": [
        "**Collecting shadow model's training data and other data (not in the training dataset) for the Attack Model**"
      ]
    },
    {
      "cell_type": "code",
      "metadata": {
        "id": "9Z5biaHFbTiC",
        "colab": {
          "base_uri": "https://localhost:8080/",
          "height": 34
        },
        "outputId": "43011f70-b763-441d-a7c5-8f86933293ca"
      },
      "source": [
        "training_data=shadow_train.data  #shadow model's training data\n",
        "\n",
        "\"\"\"\n",
        "For the data not present training dataset\n",
        "\n",
        "\"\"\"\n",
        "new_train = EMNIST(\"emnist\", \"digits\", download=True, train=True, transform=emnist_transform)\n",
        "\n",
        "new_hyperparams = hyperparams(\n",
        "    batch_size=32,\n",
        "    epochs=10,\n",
        "    learning_rate=1e-4,\n",
        "    n_data=10000,\n",
        ")\n",
        "\n",
        "new_train.data = new_train.data[0:1_000]\n",
        "new_train.targets = shadow_train.targets[0:1_000]\n",
        "\n",
        "new_train_loader = torch.utils.data.DataLoader(new_train, batch_size=new_hyperparams.batch_size)\n",
        "\n",
        "not_training_data=new_train.data   #data out in training data of shadow model\n",
        "\n",
        "print(len(shadow_train.data))"
      ],
      "execution_count": null,
      "outputs": [
        {
          "output_type": "stream",
          "text": [
            "1000\n"
          ],
          "name": "stdout"
        }
      ]
    },
    {
      "cell_type": "markdown",
      "metadata": {
        "id": "2qlf6ZIpdt9D"
      },
      "source": [
        "Dataset for training the Attack Model"
      ]
    },
    {
      "cell_type": "code",
      "metadata": {
        "id": "E_yNjRA_GBA9",
        "colab": {
          "base_uri": "https://localhost:8080/",
          "height": 84
        },
        "outputId": "745998e1-910b-4a77-8ae2-36eb9dc588ad"
      },
      "source": [
        "#Labels for the datsets\n",
        "Y2 = torch.ones([1000,1])\n",
        "Y1 = torch.zeros([1000,1])\n",
        "print(not_training_data.size())\n",
        "#Combining into a single dataset\n",
        "X=torch.cat([training_data,not_training_data])\n",
        "print(X.size())\n",
        "Y = torch.cat([Y1, Y2], dim=0)\n",
        "print(Y.size())   \n",
        "\n",
        "#Converting the ByteTensor into FloatTensor\n",
        "\n",
        "X=X.type(torch.FloatTensor)\n",
        "Y=Y.type(torch.FloatTensor)\n",
        "\n",
        "\n",
        "#Changing the Dimentions for Classification Model\n",
        "a = torch.zeros(2000, 784)\n",
        "for i in range(2000):\n",
        "  a[i]=X[i].reshape(784)\n",
        "print((a.size()))\n",
        "X=a   #Converting size of input of attack model "
      ],
      "execution_count": null,
      "outputs": [
        {
          "output_type": "stream",
          "text": [
            "torch.Size([1000, 28, 28])\n",
            "torch.Size([2000, 28, 28])\n",
            "torch.Size([2000, 1])\n",
            "torch.Size([2000, 784])\n"
          ],
          "name": "stdout"
        }
      ]
    },
    {
      "cell_type": "markdown",
      "metadata": {
        "id": "gD9K4s9YgFJO"
      },
      "source": [
        "Training the Attack Model"
      ]
    },
    {
      "cell_type": "code",
      "metadata": {
        "id": "3WXju2UoeQDb"
      },
      "source": [
        "\"\"\"\n",
        "Defining the attack model\n",
        "\"\"\"\n",
        "class Net(nn.Module):\n",
        "    \n",
        "    def __init__(self):\n",
        "        super().__init__()\n",
        "        self.fc1 = nn.Linear(784,25)\n",
        "        self.relu1 = nn.ReLU()\n",
        "        self.dout = nn.Dropout(0.2)\n",
        "        self.fc2 = nn.Linear(25, 50)\n",
        "        self.prelu = nn.PReLU(1)\n",
        "        self.out = nn.Linear(50,1)\n",
        "        self.out_act = nn.Sigmoid()\n",
        "        \n",
        "    def forward(self, input_):\n",
        "        a1 = self.fc1(input_)\n",
        "        h1 = self.relu1(a1)\n",
        "        dout = self.dout(h1)\n",
        "        a2 = self.fc2(dout)\n",
        "        h2 = self.prelu(a2)\n",
        "        a3 = self.out(h2)\n",
        "        y = self.out_act(a3)\n",
        "        return y\n",
        "    \n",
        "net = Net()\n",
        "opt = torch.optim.Adam(net.parameters(), lr=0.001, betas=(0.9, 0.999))\n",
        "criterion = nn.BCELoss()\n",
        "\n",
        "\"\"\"\n",
        "Training the attack model\n",
        "\"\"\"\n",
        "def train_epoch(model, opt, criterion, batch_size=10):\n",
        "    model.train()\n",
        "    losses = []\n",
        "    for beg_i in range(0, X.size(0), batch_size):\n",
        "\n",
        "        x_batch = X[beg_i:beg_i + batch_size, :]\n",
        "        y_batch = Y[beg_i:beg_i + batch_size, :]\n",
        "        x_batch = Variable(x_batch)\n",
        "        y_batch = Variable(y_batch)\n",
        "\n",
        "        opt.zero_grad()\n",
        "        # (1) Forward\n",
        "        y_hat = model(x_batch)\n",
        "        # (2) Compute diff\n",
        "        loss = criterion(y_hat, y_batch)\n",
        "        # (3) Compute gradients\n",
        "        loss.backward()\n",
        "        # (4) update weights\n",
        "        opt.step()        \n",
        "        losses.append(loss.data.numpy())\n",
        "    return losses\n"
      ],
      "execution_count": null,
      "outputs": []
    },
    {
      "cell_type": "markdown",
      "metadata": {
        "id": "IIvlggyNjv8k"
      },
      "source": [
        "Data for Testing if a data point is present in the training dataset."
      ]
    },
    {
      "cell_type": "code",
      "metadata": {
        "id": "RCxSBgUritwk",
        "colab": {
          "base_uri": "https://localhost:8080/",
          "height": 34
        },
        "outputId": "b98e3ec4-0b1a-4598-b842-e01ec6080b28"
      },
      "source": [
        "sample_train = EMNIST(\"emnist\", \"digits\", download=True, train=True, transform=emnist_transform)\n",
        "\n",
        "sample_hyperparams = hyperparams(\n",
        "    batch_size=16,\n",
        "    epochs=10,\n",
        "    learning_rate=1e-4,\n",
        "    n_data=1,\n",
        ")\n",
        "\n",
        "sample_train.data = sample_train.data[3000:3008]\n",
        "sample_train.targets = sample_train.targets[3000:3008]\n",
        "\n",
        "sample_train_loader = torch.utils.data.DataLoader(sample_train, batch_size=sample_hyperparams.batch_size)\n",
        "\n",
        "sample_data=sample_train.data\n",
        "len(sample_data)"
      ],
      "execution_count": null,
      "outputs": [
        {
          "output_type": "execute_result",
          "data": {
            "text/plain": [
              "8"
            ]
          },
          "metadata": {
            "tags": []
          },
          "execution_count": 98
        }
      ]
    },
    {
      "cell_type": "code",
      "metadata": {
        "id": "GScrt3bpiwZJ",
        "colab": {
          "base_uri": "https://localhost:8080/",
          "height": 168
        },
        "outputId": "79450d3d-3aa4-4f38-9c88-4cbf55caabd3"
      },
      "source": [
        "a = torch.zeros(len(sample_data), 784)\n",
        "print(sample_train.targets)\n",
        "for i in range(len(sample_data)):\n",
        "  a[i]=sample_data[i].reshape(784)\n",
        "\n",
        "\n",
        "\"\"\"\n",
        "Chaecking if the data points are present in the training dataset or not\n",
        "\"\"\"\n",
        "a=a.type(torch.FloatTensor)\n",
        "\n",
        "\n",
        "for i in range(len(a)):\n",
        "  x_t =Variable(a[i])\n",
        "  #print((d[i]))\n",
        "  net.eval()\n",
        "  print(net(x_t))\n"
      ],
      "execution_count": null,
      "outputs": [
        {
          "output_type": "stream",
          "text": [
            "tensor([2, 1, 0, 1, 5, 1, 7, 8])\n",
            "tensor([0.9930], grad_fn=<SigmoidBackward>)\n",
            "tensor([0.0001], grad_fn=<SigmoidBackward>)\n",
            "tensor([0.9999], grad_fn=<SigmoidBackward>)\n",
            "tensor([0.0059], grad_fn=<SigmoidBackward>)\n",
            "tensor([1.0000], grad_fn=<SigmoidBackward>)\n",
            "tensor([0.5528], grad_fn=<SigmoidBackward>)\n",
            "tensor([0.9770], grad_fn=<SigmoidBackward>)\n",
            "tensor([0.9999], grad_fn=<SigmoidBackward>)\n"
          ],
          "name": "stdout"
        }
      ]
    },
    {
      "cell_type": "markdown",
      "metadata": {
        "id": "UKGV3OX8jNBE"
      },
      "source": [
        "These values are the probability for each data point to be present in the training data."
      ]
    },
    {
      "cell_type": "markdown",
      "metadata": {
        "id": "39PCKZ7wj77K"
      },
      "source": [
        "This way, one can determine if a particular dataset was in the training data set(sometimes, private) and voilate the privacy of the owner.\n",
        "\n"
      ]
    },
    {
      "cell_type": "markdown",
      "metadata": {
        "id": "dAeroxIkkRNc"
      },
      "source": [
        "# **Assumptions**"
      ]
    },
    {
      "cell_type": "markdown",
      "metadata": {
        "id": "tbuXD8LOkV0_"
      },
      "source": [
        "\n",
        "**Assumption 1:** A classification model is build using a machine learning algorithm, which outputs prediction vector of probabilities for any input data record.The class with highest probability is assigned to the data record.\n",
        "\n",
        "**Assumption 2:** The attacker can obtain the output of the target model on any\n",
        "input record using a black-box query access. The range and format of the input\n",
        "and output of the model is known to the attacker.\n",
        "\n",
        "**Assumption 3:** The attacker in some cases may also know the type and architecture of the training algorithm and the model.\n",
        "\n",
        "**Assumption 4:** The knowledge of the data universe from which the training\n",
        "data of the target model is derived may be available to the attacker in some\n",
        "cases.\n"
      ]
    },
    {
      "cell_type": "markdown",
      "metadata": {
        "id": "jHlIjhGBkvSB"
      },
      "source": [
        "# **References-**\n",
        "\n",
        "https://github.com/csong27/membership-inference\n",
        "\n",
        "https://gab41.lab41.org/membership-inference-attacks-on-neural-networks-c9dee3db67da\n",
        "\n",
        "https://ieeexplore.ieee.org/document/7958568\n",
        "\n",
        "http://home.iitk.ac.in/~anmolp/Review_MIA_paper\n"
      ]
    }
  ]
}